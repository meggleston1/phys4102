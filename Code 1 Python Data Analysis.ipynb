{
 "cells": [
  {
   "cell_type": "markdown",
   "id": "8d4cc7fa",
   "metadata": {},
   "source": [
    "Newton's Gravitational Law states that:"
   ]
  },
  {
   "cell_type": "markdown",
   "id": "1aced61e",
   "metadata": {},
   "source": [
    "$F_g = G\\frac{m_1m_2}{r^2}$"
   ]
  },
  {
   "cell_type": "markdown",
   "id": "05cfdbcd",
   "metadata": {},
   "source": [
    "Which defines the force of gravity that two masses exert on each other\n",
    "\n",
    "In a satelite, centripetal force resists the pull of the Earth from gravity, keeping the satelite in orbit:"
   ]
  },
  {
   "cell_type": "markdown",
   "id": "88e423df",
   "metadata": {},
   "source": [
    "$F_{centripetal} = \\frac{mv^2}{r} = m\\omega^2r$"
   ]
  },
  {
   "cell_type": "markdown",
   "id": "8bf5639f",
   "metadata": {},
   "source": [
    "So, setting the equation equal, we get"
   ]
  },
  {
   "cell_type": "markdown",
   "id": "f62b2bf7",
   "metadata": {},
   "source": [
    "$m\\omega^2r = G\\frac{m_1m_2}{r^2}$"
   ]
  },
  {
   "cell_type": "markdown",
   "id": "73d19d7c",
   "metadata": {},
   "source": [
    "$r^3 = \\frac{Gm}{\\omega^2}$"
   ]
  },
  {
   "cell_type": "markdown",
   "id": "e93ae06f",
   "metadata": {},
   "source": [
    "$r = (\\frac{Gm}{\\omega^2})^\\frac{1}{3}$"
   ]
  },
  {
   "cell_type": "markdown",
   "id": "ed4e1bf6",
   "metadata": {},
   "source": [
    "And since $\\omega = \\frac{2\\pi}{t}$  :"
   ]
  },
  {
   "cell_type": "markdown",
   "id": "a0fa0d89",
   "metadata": {},
   "source": [
    "$h=(\\frac{Gmt^2}{4\\pi^2})^\\frac{1}{3}-R$"
   ]
  },
  {
   "cell_type": "markdown",
   "id": "ad9c336c",
   "metadata": {},
   "source": [
    "Where \"R\" represents the radius of the Earth, which must be subtracted to yield the height of\n",
    "the satellite above the Earth's surface"
   ]
  },
  {
   "cell_type": "code",
   "execution_count": 5,
   "id": "26a4379c",
   "metadata": {},
   "outputs": [],
   "source": [
    "G = 6.67e-11"
   ]
  },
  {
   "cell_type": "code",
   "execution_count": 6,
   "id": "f3aec582",
   "metadata": {},
   "outputs": [],
   "source": [
    "m = 5.97e24"
   ]
  },
  {
   "cell_type": "code",
   "execution_count": 7,
   "id": "04da67c9",
   "metadata": {},
   "outputs": [],
   "source": [
    "R = 6371"
   ]
  },
  {
   "cell_type": "code",
   "execution_count": null,
   "id": "288fd0b4",
   "metadata": {},
   "outputs": [],
   "source": [
    "h = 410"
   ]
  },
  {
   "cell_type": "markdown",
   "id": "ea82ef38",
   "metadata": {},
   "source": []
  },
  {
   "cell_type": "code",
   "execution_count": 10,
   "id": "0f8df172",
   "metadata": {},
   "outputs": [
    {
     "name": "stdout",
     "output_type": "stream",
     "text": [
      "Enter period in minutes:92.68\n"
     ]
    }
   ],
   "source": [
    "t = input(\"Enter period in minutes:\")"
   ]
  },
  {
   "cell_type": "code",
   "execution_count": null,
   "id": "767cad70",
   "metadata": {},
   "outputs": [],
   "source": []
  },
  {
   "cell_type": "code",
   "execution_count": 11,
   "id": "15aeb089",
   "metadata": {},
   "outputs": [
    {
     "ename": "SyntaxError",
     "evalue": "unexpected character after line continuation character (2992492142.py, line 1)",
     "output_type": "error",
     "traceback": [
      "\u001b[1;36m  Cell \u001b[1;32mIn[11], line 1\u001b[1;36m\u001b[0m\n\u001b[1;33m    h=((Gmt**2)/(4\\pi**2))**1/3\u001b[0m\n\u001b[1;37m                   ^\u001b[0m\n\u001b[1;31mSyntaxError\u001b[0m\u001b[1;31m:\u001b[0m unexpected character after line continuation character\n"
     ]
    }
   ],
   "source": [
    "h=((Gmt**2)/(4\\pi**2))**1/3"
   ]
  },
  {
   "cell_type": "code",
   "execution_count": null,
   "id": "1e09c795",
   "metadata": {},
   "outputs": [],
   "source": []
  }
 ],
 "metadata": {
  "kernelspec": {
   "display_name": "Python 3 (ipykernel)",
   "language": "python",
   "name": "python3"
  },
  "language_info": {
   "codemirror_mode": {
    "name": "ipython",
    "version": 3
   },
   "file_extension": ".py",
   "mimetype": "text/x-python",
   "name": "python",
   "nbconvert_exporter": "python",
   "pygments_lexer": "ipython3",
   "version": "3.11.5"
  }
 },
 "nbformat": 4,
 "nbformat_minor": 5
}
