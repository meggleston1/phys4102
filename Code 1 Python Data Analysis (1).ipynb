{
 "cells": [
  {
   "cell_type": "markdown",
   "id": "8d4cc7fa",
   "metadata": {},
   "source": [
    "Newton's Gravitational Law states that:"
   ]
  },
  {
   "cell_type": "markdown",
   "id": "1aced61e",
   "metadata": {},
   "source": [
    "$F_g = G\\frac{m_1m_2}{r^2}$"
   ]
  },
  {
   "cell_type": "markdown",
   "id": "05cfdbcd",
   "metadata": {},
   "source": [
    "Which defines the force of gravity that two masses exert on each other\n",
    "\n",
    "In a satelite, centripetal force resists the pull of the Earth from gravity, keeping the satelite in orbit:"
   ]
  },
  {
   "cell_type": "markdown",
   "id": "88e423df",
   "metadata": {},
   "source": [
    "$F_{centripetal} = \\frac{mv^2}{r} = m\\omega^2r$"
   ]
  },
  {
   "cell_type": "markdown",
   "id": "8bf5639f",
   "metadata": {},
   "source": [
    "So, setting the equation equal, we get"
   ]
  },
  {
   "cell_type": "markdown",
   "id": "f62b2bf7",
   "metadata": {},
   "source": [
    "$m\\omega^2r = G\\frac{m_1m_2}{r^2}$"
   ]
  },
  {
   "cell_type": "markdown",
   "id": "73d19d7c",
   "metadata": {},
   "source": [
    "$r^3 = \\frac{Gm}{\\omega^2}$"
   ]
  },
  {
   "cell_type": "markdown",
   "id": "e93ae06f",
   "metadata": {},
   "source": [
    "$r = (\\frac{Gm}{\\omega^2})^\\frac{1}{3}$"
   ]
  },
  {
   "cell_type": "markdown",
   "id": "ed4e1bf6",
   "metadata": {},
   "source": [
    "And since $\\omega = \\frac{2\\pi}{t}$  :"
   ]
  },
  {
   "cell_type": "markdown",
   "id": "a0fa0d89",
   "metadata": {},
   "source": [
    "$h=(\\frac{Gmt^2}{4\\pi^2})^\\frac{1}{3}-R$"
   ]
  },
  {
   "cell_type": "markdown",
   "id": "ad9c336c",
   "metadata": {},
   "source": [
    "Where \"R\" represents the radius of the Earth, which must be subtracted to yield the height of\n",
    "the satellite above the Earth's surface"
   ]
  },
  {
   "cell_type": "markdown",
   "id": "7d9cffee",
   "metadata": {},
   "source": [
    "Let's try an example:"
   ]
  },
  {
   "cell_type": "markdown",
   "id": "31436ca2",
   "metadata": {},
   "source": [
    "Part 2(b)"
   ]
  },
  {
   "cell_type": "code",
   "execution_count": 28,
   "id": "15aeb089",
   "metadata": {},
   "outputs": [
    {
     "name": "stdout",
     "output_type": "stream",
     "text": [
      "Enter period (T) in minutes:92.68\n",
      "410.6961325276494\n"
     ]
    }
   ],
   "source": [
    "import numpy as np\n",
    "# Declares the constant values for the orbital height equation\n",
    "G = float(6.67e-11)\n",
    "m = float(5.97e24)\n",
    "R = float(6371e3)\n",
    "T = float(input(\"Enter period (T) in minutes:\"))\n",
    "T_2 = T*60\n",
    "h = (((G*m*(T_2)**2)/(4*np.pi**2))**(1./3))-R\n",
    "h_2 = h*1e-3\n",
    "print(h_2)"
   ]
  },
  {
   "cell_type": "markdown",
   "id": "2442fd0b",
   "metadata": {},
   "source": [
    "Part 2(c)"
   ]
  },
  {
   "cell_type": "code",
   "execution_count": 42,
   "id": "a0844aea",
   "metadata": {},
   "outputs": [
    {
     "name": "stdout",
     "output_type": "stream",
     "text": [
      "Enter Period (T) in Hours: 24\n",
      "35855910.176174976\n"
     ]
    }
   ],
   "source": [
    "import numpy as np\n",
    "T = float(input(\"Enter Period (T) in Hours: \"))   #Asks for User Input\n",
    "def GeoOrbit (T):                                 #Defines the \"GeoOrbit\" function\n",
    "    G = float(6.67e-11)\n",
    "    m = float(5.97e24)\n",
    "    R = float(6371e3)\n",
    "    T_2 = T*60*60                                 #Converts hours from user input into seconds\n",
    "    return (((G*m*(T_2)**2)/(4*np.pi**2))**(1./3))-R\n",
    "print(GeoOrbit(T))                                #Displays the answer in meters"
   ]
  },
  {
   "cell_type": "markdown",
   "id": "21ea9375",
   "metadata": {},
   "source": [
    "Part 2(d)"
   ]
  },
  {
   "cell_type": "code",
   "execution_count": 61,
   "id": "af1b77ef",
   "metadata": {},
   "outputs": [
    {
     "name": "stdout",
     "output_type": "stream",
     "text": [
      "279321.6253728606\n",
      "229968.3050042782\n",
      "180429.78960218746\n",
      "130703.26773955952\n",
      "80785.85243780725\n",
      "30674.57823250536\n",
      "-19633.601910785772\n",
      "-70141.81984013412\n",
      "-120853.29563054815\n",
      "-171771.34117806423\n",
      "-222899.36398651917\n"
     ]
    }
   ],
   "source": [
    "import numpy as np\n",
    "def MinOrbit (T):\n",
    "    G = float(6.67e-11)\n",
    "    m = float(5.97e24)\n",
    "    R = float(6371e3)\n",
    "    T_s = T*60\n",
    "    h = (((G*m*(T_s)**2)/(4*np.pi**2))**(1./3))-R\n",
    "    return (h)\n",
    "periods = np.arange (90,79,-1)\n",
    "for x in periods:\n",
    "    print (MinOrbit(x))\n",
    "    "
   ]
  },
  {
   "cell_type": "markdown",
   "id": "1b4f55e5",
   "metadata": {},
   "source": [
    "There is a minimal orbital period between 84 and 85 minutes"
   ]
  },
  {
   "cell_type": "markdown",
   "id": "1f50b25d",
   "metadata": {},
   "source": [
    "Part 3(a)"
   ]
  },
  {
   "cell_type": "code",
   "execution_count": 76,
   "id": "758143e6",
   "metadata": {},
   "outputs": [
    {
     "name": "stdout",
     "output_type": "stream",
     "text": [
      "3\n",
      "Input X coordinate: -1\n",
      "Input Y coordinate: -1\n",
      "1.4142135623730951 0.7853981633974483\n"
     ]
    }
   ],
   "source": [
    "import numpy as np\n",
    "def quadrant (x,y):\n",
    "    u = 0.\n",
    "    Theta = 0.\n",
    "    if (x>0) and (y>0):\n",
    "        u = 1\n",
    "        Theta = np.arctan(y/x)\n",
    "    elif (x<0) and (y>0):\n",
    "        u = 2\n",
    "        Theta = -np.arctan(y/x)\n",
    "    elif (x<0) and (y<0):\n",
    "        u = 3\n",
    "        Theta = np.arctan(y/x) - np.pi\n",
    "    elif (x>0) and (y<0):\n",
    "        u = 4\n",
    "        Theta = np.arctan(y/x)\n",
    "    return (Theta)\n",
    "\n",
    "print (quadrant(x,y))       \n",
    "x = float(input(\"Input X coordinate: \"))\n",
    "y = float(input(\"Input Y coordinate: \"))\n",
    "r = np.sqrt(x**2 + y**2)\n",
    "quardant(x,y)\n",
    "print(r,theta)"
   ]
  },
  {
   "cell_type": "code",
   "execution_count": 78,
   "id": "cd78c1a7",
   "metadata": {},
   "outputs": [
    {
     "name": "stdout",
     "output_type": "stream",
     "text": [
      "45.022824653356906\n"
     ]
    }
   ],
   "source": [
    "print(np.arctan(-1./-1.)*180/3.14)"
   ]
  },
  {
   "cell_type": "code",
   "execution_count": null,
   "id": "e6f74911",
   "metadata": {},
   "outputs": [],
   "source": []
  }
 ],
 "metadata": {
  "kernelspec": {
   "display_name": "Python 3 (ipykernel)",
   "language": "python",
   "name": "python3"
  },
  "language_info": {
   "codemirror_mode": {
    "name": "ipython",
    "version": 3
   },
   "file_extension": ".py",
   "mimetype": "text/x-python",
   "name": "python",
   "nbconvert_exporter": "python",
   "pygments_lexer": "ipython3",
   "version": "3.11.5"
  }
 },
 "nbformat": 4,
 "nbformat_minor": 5
}
