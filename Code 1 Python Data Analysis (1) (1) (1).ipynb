{
 "cells": [
  {
   "cell_type": "markdown",
   "id": "8d4cc7fa",
   "metadata": {},
   "source": [
    "Newton's Gravitational Law states that:"
   ]
  },
  {
   "cell_type": "markdown",
   "id": "1aced61e",
   "metadata": {},
   "source": [
    "$F_g = G\\frac{m_1m_2}{r^2}$"
   ]
  },
  {
   "cell_type": "markdown",
   "id": "05cfdbcd",
   "metadata": {},
   "source": [
    "Which defines the force of gravity that two masses exert on each other\n",
    "\n",
    "In a satelite, centripetal force resists the pull of the Earth from gravity, keeping the satelite in orbit:"
   ]
  },
  {
   "cell_type": "markdown",
   "id": "88e423df",
   "metadata": {},
   "source": [
    "$F_{centripetal} = \\frac{mv^2}{r} = m\\omega^2r$"
   ]
  },
  {
   "cell_type": "markdown",
   "id": "8bf5639f",
   "metadata": {},
   "source": [
    "So, setting the equation equal, we get"
   ]
  },
  {
   "cell_type": "markdown",
   "id": "f62b2bf7",
   "metadata": {},
   "source": [
    "$m\\omega^2r = G\\frac{m_1m_2}{r^2}$"
   ]
  },
  {
   "cell_type": "markdown",
   "id": "73d19d7c",
   "metadata": {},
   "source": [
    "$r^3 = \\frac{Gm}{\\omega^2}$"
   ]
  },
  {
   "cell_type": "markdown",
   "id": "e93ae06f",
   "metadata": {},
   "source": [
    "$r = (\\frac{Gm}{\\omega^2})^\\frac{1}{3}$"
   ]
  },
  {
   "cell_type": "markdown",
   "id": "ed4e1bf6",
   "metadata": {},
   "source": [
    "And since $\\omega = \\frac{2\\pi}{t}$  :"
   ]
  },
  {
   "cell_type": "markdown",
   "id": "a0fa0d89",
   "metadata": {},
   "source": [
    "$h=(\\frac{Gmt^2}{4\\pi^2})^\\frac{1}{3}-R$"
   ]
  },
  {
   "cell_type": "markdown",
   "id": "ad9c336c",
   "metadata": {},
   "source": [
    "Where \"R\" represents the radius of the Earth, which must be subtracted to yield the height of\n",
    "the satellite above the Earth's surface"
   ]
  },
  {
   "cell_type": "markdown",
   "id": "7d9cffee",
   "metadata": {},
   "source": [
    "Let's try an example:"
   ]
  },
  {
   "cell_type": "markdown",
   "id": "31436ca2",
   "metadata": {},
   "source": [
    "Part 2(b)"
   ]
  },
  {
   "cell_type": "code",
   "execution_count": 28,
   "id": "15aeb089",
   "metadata": {},
   "outputs": [
    {
     "name": "stdout",
     "output_type": "stream",
     "text": [
      "Enter period (T) in minutes:92.68\n",
      "410.6961325276494\n"
     ]
    }
   ],
   "source": [
    "import numpy as np\n",
    "# Declares the constant values for the orbital height equation\n",
    "G = float(6.67e-11)\n",
    "m = float(5.97e24)\n",
    "R = float(6371e3)\n",
    "T = float(input(\"Enter period (T) in minutes:\"))\n",
    "T_2 = T*60\n",
    "h = (((G*m*(T_2)**2)/(4*np.pi**2))**(1./3))-R\n",
    "h_2 = h*1e-3\n",
    "print(h_2)"
   ]
  },
  {
   "cell_type": "markdown",
   "id": "2442fd0b",
   "metadata": {},
   "source": [
    "Part 2(c)"
   ]
  },
  {
   "cell_type": "code",
   "execution_count": 42,
   "id": "a0844aea",
   "metadata": {},
   "outputs": [
    {
     "name": "stdout",
     "output_type": "stream",
     "text": [
      "Enter Period (T) in Hours: 24\n",
      "35855910.176174976\n"
     ]
    }
   ],
   "source": [
    "import numpy as np\n",
    "T = float(input(\"Enter Period (T) in Hours: \"))   #Asks for User Input\n",
    "def GeoOrbit (T):                                 #Defines the \"GeoOrbit\" function\n",
    "    G = float(6.67e-11)\n",
    "    m = float(5.97e24)\n",
    "    R = float(6371e3)\n",
    "    T_2 = T*60*60                                 #Converts hours from user input into seconds\n",
    "    return (((G*m*(T_2)**2)/(4*np.pi**2))**(1./3))-R\n",
    "print(GeoOrbit(T))                                #Displays the answer in meters"
   ]
  },
  {
   "cell_type": "markdown",
   "id": "21ea9375",
   "metadata": {},
   "source": [
    "Part 2(d)"
   ]
  },
  {
   "cell_type": "code",
   "execution_count": 61,
   "id": "af1b77ef",
   "metadata": {},
   "outputs": [
    {
     "name": "stdout",
     "output_type": "stream",
     "text": [
      "279321.6253728606\n",
      "229968.3050042782\n",
      "180429.78960218746\n",
      "130703.26773955952\n",
      "80785.85243780725\n",
      "30674.57823250536\n",
      "-19633.601910785772\n",
      "-70141.81984013412\n",
      "-120853.29563054815\n",
      "-171771.34117806423\n",
      "-222899.36398651917\n"
     ]
    }
   ],
   "source": [
    "import numpy as np\n",
    "def MinOrbit (T):\n",
    "    G = float(6.67e-11)\n",
    "    m = float(5.97e24)\n",
    "    R = float(6371e3)\n",
    "    T_s = T*60\n",
    "    h = (((G*m*(T_s)**2)/(4*np.pi**2))**(1./3))-R\n",
    "    return (h)\n",
    "periods = np.arange (90,79,-1)\n",
    "for x in periods:\n",
    "    print (MinOrbit(x))\n",
    "    "
   ]
  },
  {
   "cell_type": "markdown",
   "id": "1b4f55e5",
   "metadata": {},
   "source": [
    "There is a minimal orbital period between 84 and 85 minutes"
   ]
  },
  {
   "cell_type": "markdown",
   "id": "1f50b25d",
   "metadata": {},
   "source": [
    "Part 3(a)"
   ]
  },
  {
   "cell_type": "code",
   "execution_count": 19,
   "id": "758143e6",
   "metadata": {},
   "outputs": [
    {
     "name": "stdout",
     "output_type": "stream",
     "text": [
      "Input X coordinate: -1\n",
      "Input Y coordinate: 1\n",
      "Theta equals: \n",
      "135.0\n",
      "r equals: \n",
      "1.4142135623730951\n"
     ]
    }
   ],
   "source": [
    "import numpy as np\n",
    "def quadrant (x,y):\n",
    "    Theta = 0.\n",
    "    if (x>0) and (y>0):\n",
    "        Theta = np.arctan(y/x)\n",
    "    elif (x<0) and (y>0):\n",
    "        Theta = np.arctan(y/x) + np.pi\n",
    "    elif (x<0) and (y<0):\n",
    "        Theta = np.arctan(y/x) - np.pi\n",
    "    elif (x>0) and (y<0):\n",
    "        Theta = np.arctan(y/x)\n",
    "    return (Theta*(180/np.pi))\n",
    "     \n",
    "x = float(input(\"Input X coordinate: \"))\n",
    "y = float(input(\"Input Y coordinate: \"))\n",
    "r = np.sqrt(x**2 + y**2)\n",
    "print(\"Theta equals: \")\n",
    "print (quadrant(x,y))  \n",
    "print(\"r equals: \")\n",
    "print(r)"
   ]
  },
  {
   "cell_type": "markdown",
   "id": "8cb155eb",
   "metadata": {},
   "source": [
    "Part 3(b)"
   ]
  },
  {
   "cell_type": "code",
   "execution_count": 24,
   "id": "e6f74911",
   "metadata": {},
   "outputs": [
    {
     "name": "stdout",
     "output_type": "stream",
     "text": [
      "Input r: 1.4142135623730951\n",
      "Input theta: 135\n",
      "(-1.4086809257715194, 0.1249721943773697)\n"
     ]
    }
   ],
   "source": [
    "import numpy as np\n",
    "def RecQuad (x,y):\n",
    "    a = 0.\n",
    "    b = 0.\n",
    "    if (x>0) and (y>0):\n",
    "        a = r*np.cos(theta)\n",
    "        b = r*np.sin(theta)\n",
    "    elif (x<0) and (y>0):\n",
    "        a = -r*np.cos(theta)\n",
    "        b = r*np.sin(theta)\n",
    "    elif (x<0) and (y<0):\n",
    "        a = -r*np.cos(theta)\n",
    "        b = -r*np.sin(theta)\n",
    "    elif (x>0) and (y<0):\n",
    "        a = r*np.cos(theta)\n",
    "        b = -r*np.sin(theta)\n",
    "    return (a,b)\n",
    "\n",
    "r = float(input(\"Input r: \"))\n",
    "theta = float(input(\"Input theta: \"))\n",
    "print(RecQuad(x,y))"
   ]
  },
  {
   "cell_type": "markdown",
   "id": "60cf1614",
   "metadata": {},
   "source": [
    "Part 4(a)"
   ]
  },
  {
   "cell_type": "markdown",
   "id": "78063e72",
   "metadata": {},
   "source": [
    "We know that:\n",
    "\n",
    "$s = (\\frac{E}{c})^2$\n",
    "\n",
    "And:\n",
    "\n",
    "$E = mc^2$\n",
    "\n",
    "So:\n",
    "\n",
    "$s = (\\frac{mc^2}{c})^2$\n",
    "\n",
    "$s = (mc)^2$\n",
    "\n",
    "\n",
    "$\\sqrt{s} = mc$"
   ]
  },
  {
   "cell_type": "markdown",
   "id": "13cb639b",
   "metadata": {},
   "source": [
    "Part 4(b)"
   ]
  },
  {
   "cell_type": "code",
   "execution_count": 19,
   "id": "1869b311",
   "metadata": {},
   "outputs": [
    {
     "name": "stdout",
     "output_type": "stream",
     "text": [
      "Input E: 1000000000\n",
      "Input x-momentum: 1\n",
      "Input y-momentum: 1\n",
      "Input z-momentum: 1\n",
      "2.850701766326352\n"
     ]
    }
   ],
   "source": [
    "import numpy as np\n",
    "a = float(input(\"Input E: \"))\n",
    "b = float(input(\"Input x-momentum: \"))\n",
    "c = float(input(\"Input y-momentum: \"))\n",
    "d = float(input(\"Input z-momentum: \"))\n",
    "c_light = 299792458\n",
    "s = ((a/c_light)**2) - b**2 - c**2 - d**2\n",
    "if s<0:\n",
    "    print(\"error, check input values\")\n",
    "elif s>=0:\n",
    "    print(np.sqrt(s))"
   ]
  },
  {
   "cell_type": "code",
   "execution_count": 72,
   "id": "227790ce",
   "metadata": {
    "scrolled": false
   },
   "outputs": [
    {
     "name": "stdout",
     "output_type": "stream",
     "text": [
      "[[ 0.         -1.         -1.         -1.         -1.         -1.\n",
      "  -1.         -1.         -1.         -1.        ]\n",
      " [ 1.73205081  0.         -1.         -1.         -1.         -1.\n",
      "  -1.         -1.         -1.         -1.        ]\n",
      " [ 2.82842712  2.23606798  0.         -1.         -1.         -1.\n",
      "  -1.         -1.         -1.         -1.        ]\n",
      " [ 3.87298335  3.46410162  2.64575131  0.         -1.         -1.\n",
      "  -1.         -1.         -1.         -1.        ]\n",
      " [ 4.89897949  4.58257569  4.          3.          0.         -1.\n",
      "  -1.         -1.         -1.         -1.        ]\n",
      " [ 5.91607978  5.65685425  5.19615242  4.47213595  3.31662479  0.\n",
      "  -1.         -1.         -1.         -1.        ]\n",
      " [ 6.92820323  6.70820393  6.32455532  5.74456265  4.89897949  3.60555128\n",
      "   0.         -1.         -1.         -1.        ]\n",
      " [ 7.93725393  7.74596669  7.41619849  6.92820323  6.244998    5.29150262\n",
      "   3.87298335  0.         -1.         -1.        ]\n",
      " [ 8.94427191  8.77496439  8.48528137  8.06225775  7.48331477  6.70820393\n",
      "   5.65685425  4.12310563  0.         -1.        ]\n",
      " [ 9.94987437  9.79795897  9.53939201  9.16515139  8.66025404  8.\n",
      "   7.14142843  6.          4.35889894  0.        ]]\n"
     ]
    }
   ],
   "source": [
    "import numpy as np\n",
    "\n",
    "energies = np.arange(1,11,1)\n",
    "pxs = np.arange(1,11,1)\n",
    "output = np.zeros([10,10])\n",
    "\n",
    "for energy in energies:\n",
    "    for px in pxs:\n",
    "        s = ((energy)**2) - px**2\n",
    "        if s<0:\n",
    "            output[energy-1,px-1] = -1\n",
    "        else:\n",
    "            output[energy-1,px-1] = np.sqrt(s)\n",
    "print(output)\n",
    "np.savetxt('output_1',output)"
   ]
  },
  {
   "cell_type": "markdown",
   "id": "f7343558",
   "metadata": {},
   "source": [
    "Part 4(d)"
   ]
  },
  {
   "cell_type": "code",
   "execution_count": 73,
   "id": "a944ac82",
   "metadata": {},
   "outputs": [
    {
     "name": "stdout",
     "output_type": "stream",
     "text": [
      "[[ 0.         -1.         -1.         -1.         -1.         -1.\n",
      "  -1.         -1.         -1.         -1.        ]\n",
      " [ 1.73205081  0.         -1.         -1.         -1.         -1.\n",
      "  -1.         -1.         -1.         -1.        ]\n",
      " [ 2.82842712  2.23606798  0.         -1.         -1.         -1.\n",
      "  -1.         -1.         -1.         -1.        ]\n",
      " [ 3.87298335  3.46410162  2.64575131  0.         -1.         -1.\n",
      "  -1.         -1.         -1.         -1.        ]\n",
      " [ 4.89897949  4.58257569  4.          3.          0.         -1.\n",
      "  -1.         -1.         -1.         -1.        ]\n",
      " [ 5.91607978  5.65685425  5.19615242  4.47213595  3.31662479  0.\n",
      "  -1.         -1.         -1.         -1.        ]\n",
      " [ 6.92820323  6.70820393  6.32455532  5.74456265  4.89897949  3.60555128\n",
      "   0.         -1.         -1.         -1.        ]\n",
      " [ 7.93725393  7.74596669  7.41619849  6.92820323  6.244998    5.29150262\n",
      "   3.87298335  0.         -1.         -1.        ]\n",
      " [ 8.94427191  8.77496439  8.48528137  8.06225775  7.48331477  6.70820393\n",
      "   5.65685425  4.12310563  0.         -1.        ]\n",
      " [ 9.94987437  9.79795897  9.53939201  9.16515139  8.66025404  8.\n",
      "   7.14142843  6.          4.35889894  0.        ]]\n"
     ]
    }
   ],
   "source": [
    "import numpy as np\n",
    "u = np.loadtxt('output_1')\n",
    "print(u)"
   ]
  },
  {
   "cell_type": "markdown",
   "id": "92f51262",
   "metadata": {},
   "source": [
    "Part 5(a)"
   ]
  },
  {
   "cell_type": "code",
   "execution_count": 87,
   "id": "c1af3756",
   "metadata": {},
   "outputs": [
    {
     "name": "stdout",
     "output_type": "stream",
     "text": [
      "1692.230632519974\n"
     ]
    }
   ],
   "source": [
    "a_1 = 15.8\n",
    "a_2 = 18.3\n",
    "a_3 = 0.714\n",
    "a_4 = 23.2\n",
    "A = 58\n",
    "Z = 28\n",
    "if A%2 == 1:\n",
    "    a_5 = 0\n",
    "elif A%2 == 0 and Z%2 == 0:\n",
    "    a_5 = 12.0\n",
    "elif A%2 == 0 and Z%2 == 1:\n",
    "    a_5 = -12.0\n",
    "\n",
    "E_bind = (a_1)*A - (a_2)*A**(2/3) - (a_3)*((Z**2)/(A**(1/3))) - (a_4)*(((A-(2*Z)**2)/A) + (a_5)/((A)**(1/2)))\n",
    "\n",
    "print(E_bind)"
   ]
  },
  {
   "cell_type": "code",
   "execution_count": null,
   "id": "e421ab94",
   "metadata": {},
   "outputs": [],
   "source": []
  }
 ],
 "metadata": {
  "kernelspec": {
   "display_name": "Python 3 (ipykernel)",
   "language": "python",
   "name": "python3"
  },
  "language_info": {
   "codemirror_mode": {
    "name": "ipython",
    "version": 3
   },
   "file_extension": ".py",
   "mimetype": "text/x-python",
   "name": "python",
   "nbconvert_exporter": "python",
   "pygments_lexer": "ipython3",
   "version": "3.11.5"
  }
 },
 "nbformat": 4,
 "nbformat_minor": 5
}
