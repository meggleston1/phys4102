{
 "cells": [
  {
   "cell_type": "markdown",
   "id": "8d4cc7fa",
   "metadata": {},
   "source": [
    "Newton's Gravitational Law states that:"
   ]
  },
  {
   "cell_type": "markdown",
   "id": "1aced61e",
   "metadata": {},
   "source": [
    "$F_g = G\\frac{m_1m_2}{r^2}$"
   ]
  },
  {
   "cell_type": "markdown",
   "id": "05cfdbcd",
   "metadata": {},
   "source": [
    "Which defines the force of gravity that two masses exert on each other\n",
    "\n",
    "In a satelite, centripetal force resists the pull of the Earth from gravity, keeping the satelite in orbit:"
   ]
  },
  {
   "cell_type": "markdown",
   "id": "88e423df",
   "metadata": {},
   "source": [
    "$F_{centripetal} = \\frac{mv^2}{r} = m\\omega^2r$"
   ]
  },
  {
   "cell_type": "markdown",
   "id": "8bf5639f",
   "metadata": {},
   "source": [
    "So, setting the equation equal, we get"
   ]
  },
  {
   "cell_type": "markdown",
   "id": "f62b2bf7",
   "metadata": {},
   "source": [
    "$m\\omega^2r = G\\frac{m_1m_2}{r^2}$"
   ]
  },
  {
   "cell_type": "markdown",
   "id": "73d19d7c",
   "metadata": {},
   "source": [
    "$r^3 = \\frac{Gm}{\\omega^2}$"
   ]
  },
  {
   "cell_type": "markdown",
   "id": "e93ae06f",
   "metadata": {},
   "source": [
    "$r = (\\frac{Gm}{\\omega^2})^\\frac{1}{3}$"
   ]
  },
  {
   "cell_type": "markdown",
   "id": "ed4e1bf6",
   "metadata": {},
   "source": [
    "And since $\\omega = \\frac{2\\pi}{t}$  :"
   ]
  },
  {
   "cell_type": "markdown",
   "id": "a0fa0d89",
   "metadata": {},
   "source": [
    "$h=(\\frac{Gmt^2}{4\\pi^2})^\\frac{1}{3}-R$"
   ]
  },
  {
   "cell_type": "markdown",
   "id": "ad9c336c",
   "metadata": {},
   "source": [
    "Where \"R\" represents the radius of the Earth, which must be subtracted to yield the height of\n",
    "the satellite above the Earth's surface"
   ]
  },
  {
   "cell_type": "markdown",
   "id": "7d9cffee",
   "metadata": {},
   "source": [
    "Let's try an example:"
   ]
  },
  {
   "cell_type": "markdown",
   "id": "31436ca2",
   "metadata": {},
   "source": [
    "Part 2(b)"
   ]
  },
  {
   "cell_type": "code",
   "execution_count": 28,
   "id": "15aeb089",
   "metadata": {},
   "outputs": [
    {
     "name": "stdout",
     "output_type": "stream",
     "text": [
      "Enter period (T) in minutes:92.68\n",
      "410.6961325276494\n"
     ]
    }
   ],
   "source": [
    "import numpy as np\n",
    "G = float(6.67e-11)                               # Declares the constant values for the orbital height equation\n",
    "m = float(5.97e24)\n",
    "R = float(6371e3)\n",
    "T = float(input(\"Enter period (T) in minutes:\"))\n",
    "T_2 = T*60                                        # Converts minutes to seconds\n",
    "h = (((G*m*(T_2)**2)/(4*np.pi**2))**(1./3))-R\n",
    "h_2 = h*1e-3                                      # Converts m to km\n",
    "print(h_2)"
   ]
  },
  {
   "cell_type": "markdown",
   "id": "2442fd0b",
   "metadata": {},
   "source": [
    "Part 2(c)"
   ]
  },
  {
   "cell_type": "code",
   "execution_count": 42,
   "id": "a0844aea",
   "metadata": {},
   "outputs": [
    {
     "name": "stdout",
     "output_type": "stream",
     "text": [
      "Enter Period (T) in Hours: 24\n",
      "35855910.176174976\n"
     ]
    }
   ],
   "source": [
    "import numpy as np\n",
    "T = float(input(\"Enter Period (T) in Hours: \"))       # Asks for User Input\n",
    "def GeoOrbit (T):                                     # Defines the \"GeoOrbit\" function\n",
    "    G = float(6.67e-11)\n",
    "    m = float(5.97e24)\n",
    "    R = float(6371e3)\n",
    "    T_2 = T*60*60                                     # Converts hours from user input into seconds\n",
    "    return (((G*m*(T_2)**2)/(4*np.pi**2))**(1./3))-R\n",
    "print(GeoOrbit(T))                                    # Displays the answer in meters"
   ]
  },
  {
   "cell_type": "markdown",
   "id": "21ea9375",
   "metadata": {},
   "source": [
    "Part 2(d)"
   ]
  },
  {
   "cell_type": "code",
   "execution_count": 61,
   "id": "af1b77ef",
   "metadata": {},
   "outputs": [
    {
     "name": "stdout",
     "output_type": "stream",
     "text": [
      "279321.6253728606\n",
      "229968.3050042782\n",
      "180429.78960218746\n",
      "130703.26773955952\n",
      "80785.85243780725\n",
      "30674.57823250536\n",
      "-19633.601910785772\n",
      "-70141.81984013412\n",
      "-120853.29563054815\n",
      "-171771.34117806423\n",
      "-222899.36398651917\n"
     ]
    }
   ],
   "source": [
    "import numpy as np\n",
    "def MinOrbit (T):                                    # Defines user function \"MinOrbit\"\n",
    "    G = float(6.67e-11)                              # Declares variables\n",
    "    m = float(5.97e24)\n",
    "    R = float(6371e3)\n",
    "    T_s = T*60                                       # Converts minutes to seconds\n",
    "    h = (((G*m*(T_s)**2)/(4*np.pi**2))**(1./3))-R\n",
    "    return (h)\n",
    "periods = np.arange (90,79,-1)                       # Creates an array counting down from 90 to 80 by 1\n",
    "for x in periods:                                    # Loops the \"MinOrbit\" program through the established range of values\n",
    "    print (MinOrbit(x))\n",
    "    "
   ]
  },
  {
   "cell_type": "markdown",
   "id": "1b4f55e5",
   "metadata": {},
   "source": [
    "There is a minimal orbital period between 84 and 85 minutes"
   ]
  },
  {
   "cell_type": "markdown",
   "id": "1f50b25d",
   "metadata": {},
   "source": [
    "Part 3(a)"
   ]
  },
  {
   "cell_type": "code",
   "execution_count": 19,
   "id": "758143e6",
   "metadata": {},
   "outputs": [
    {
     "name": "stdout",
     "output_type": "stream",
     "text": [
      "Input X coordinate: -1\n",
      "Input Y coordinate: 1\n",
      "Theta equals: \n",
      "135.0\n",
      "r equals: \n",
      "1.4142135623730951\n"
     ]
    }
   ],
   "source": [
    "import numpy as np\n",
    "def quadrant (x,y):                                 # Defines user function \"quadrant\"\n",
    "    Theta = 0.                                      # Establishes a starting point for the variable, \"Theta\"\n",
    "    if (x>0) and (y>0):                             # Makes the angle indicate in the proper direction (quadrant)\n",
    "        Theta = np.arctan(y/x)\n",
    "    elif (x<0) and (y>0):\n",
    "        Theta = np.arctan(y/x) + np.pi\n",
    "    elif (x<0) and (y<0):\n",
    "        Theta = np.arctan(y/x) - np.pi\n",
    "    elif (x>0) and (y<0):\n",
    "        Theta = np.arctan(y/x)\n",
    "    return (Theta*(180/np.pi))                      # Converts the previously determined value of \"Theta\" into polar\n",
    "     \n",
    "x = float(input(\"Input X coordinate: \"))            # Asks for user input of rectangular coordinates\n",
    "y = float(input(\"Input Y coordinate: \"))\n",
    "r = np.sqrt(x**2 + y**2)                            # Converts rectangular coordinates into polar radius\n",
    "print(\"Theta equals: \")\n",
    "print (quadrant(x,y))                               # Prints the value determined in user function \"quadrant\"\n",
    "print(\"r equals: \")\n",
    "print(r)"
   ]
  },
  {
   "cell_type": "markdown",
   "id": "8cb155eb",
   "metadata": {},
   "source": [
    "Part 3(b)"
   ]
  },
  {
   "cell_type": "code",
   "execution_count": 24,
   "id": "e6f74911",
   "metadata": {},
   "outputs": [
    {
     "name": "stdout",
     "output_type": "stream",
     "text": [
      "Input r: 1.4142135623730951\n",
      "Input theta: 135\n",
      "(-1.4086809257715194, 0.1249721943773697)\n"
     ]
    }
   ],
   "source": [
    "import numpy as np\n",
    "def RecQuad (x,y):                              # Defines user function \"quadrant\"\n",
    "    a = 0.                                      # Establishes a starting point for the variables, \"a\" and \"b\"\n",
    "    b = 0.\n",
    "    if (x>0) and (y>0):                         # Makes the x and y coordinates go in the proper quadrant\n",
    "        a = r*np.cos(theta)\n",
    "        b = r*np.sin(theta)\n",
    "    elif (x<0) and (y>0):\n",
    "        a = -r*np.cos(theta)\n",
    "        b = r*np.sin(theta)\n",
    "    elif (x<0) and (y<0):\n",
    "        a = -r*np.cos(theta)\n",
    "        b = -r*np.sin(theta)\n",
    "    elif (x>0) and (y<0):\n",
    "        a = r*np.cos(theta)\n",
    "        b = -r*np.sin(theta)\n",
    "    return (a,b)\n",
    "\n",
    "r = float(input(\"Input r: \"))\n",
    "theta = float(input(\"Input theta: \"))\n",
    "print(RecQuad(x,y))"
   ]
  },
  {
   "cell_type": "markdown",
   "id": "60cf1614",
   "metadata": {},
   "source": [
    "Part 4(a)"
   ]
  },
  {
   "cell_type": "markdown",
   "id": "78063e72",
   "metadata": {},
   "source": [
    "We know that:\n",
    "\n",
    "$s = (\\frac{E}{c})^2$\n",
    "\n",
    "And:\n",
    "\n",
    "$E = mc^2$\n",
    "\n",
    "So:\n",
    "\n",
    "$s = (\\frac{mc^2}{c})^2$\n",
    "\n",
    "$s = (mc)^2$\n",
    "\n",
    "\n",
    "$\\sqrt{s} = mc$"
   ]
  },
  {
   "cell_type": "markdown",
   "id": "13cb639b",
   "metadata": {},
   "source": [
    "Part 4(b)"
   ]
  },
  {
   "cell_type": "code",
   "execution_count": 19,
   "id": "1869b311",
   "metadata": {},
   "outputs": [
    {
     "name": "stdout",
     "output_type": "stream",
     "text": [
      "Input E: 1000000000\n",
      "Input x-momentum: 1\n",
      "Input y-momentum: 1\n",
      "Input z-momentum: 1\n",
      "2.850701766326352\n"
     ]
    }
   ],
   "source": [
    "import numpy as np\n",
    "a = float(input(\"Input E: \"))                    # Asks for user input\n",
    "b = float(input(\"Input x-momentum: \"))\n",
    "c = float(input(\"Input y-momentum: \"))\n",
    "d = float(input(\"Input z-momentum: \"))\n",
    "c_light = 299792458                              # Establishes variable for the speed of light\n",
    "s = ((a/c_light)**2) - b**2 - c**2 - d**2        # Solves for 's'\n",
    "if s<0:\n",
    "    print(\"error, check input values\")           # Kicks out impossible (negative) results\n",
    "elif s>=0:\n",
    "    print(np.sqrt(s))                            # Prints the square root of 's'"
   ]
  },
  {
   "cell_type": "code",
   "execution_count": 1,
   "id": "227790ce",
   "metadata": {
    "scrolled": false
   },
   "outputs": [
    {
     "name": "stdout",
     "output_type": "stream",
     "text": [
      "[[ 0.         -1.         -1.         -1.         -1.         -1.\n",
      "  -1.         -1.         -1.         -1.        ]\n",
      " [ 1.73205081  0.         -1.         -1.         -1.         -1.\n",
      "  -1.         -1.         -1.         -1.        ]\n",
      " [ 2.82842712  2.23606798  0.         -1.         -1.         -1.\n",
      "  -1.         -1.         -1.         -1.        ]\n",
      " [ 3.87298335  3.46410162  2.64575131  0.         -1.         -1.\n",
      "  -1.         -1.         -1.         -1.        ]\n",
      " [ 4.89897949  4.58257569  4.          3.          0.         -1.\n",
      "  -1.         -1.         -1.         -1.        ]\n",
      " [ 5.91607978  5.65685425  5.19615242  4.47213595  3.31662479  0.\n",
      "  -1.         -1.         -1.         -1.        ]\n",
      " [ 6.92820323  6.70820393  6.32455532  5.74456265  4.89897949  3.60555128\n",
      "   0.         -1.         -1.         -1.        ]\n",
      " [ 7.93725393  7.74596669  7.41619849  6.92820323  6.244998    5.29150262\n",
      "   3.87298335  0.         -1.         -1.        ]\n",
      " [ 8.94427191  8.77496439  8.48528137  8.06225775  7.48331477  6.70820393\n",
      "   5.65685425  4.12310563  0.         -1.        ]\n",
      " [ 9.94987437  9.79795897  9.53939201  9.16515139  8.66025404  8.\n",
      "   7.14142843  6.          4.35889894  0.        ]]\n"
     ]
    }
   ],
   "source": [
    "import numpy as np\n",
    "\n",
    "energies = np.arange(1,11,1)                          # Establishes arrays for the later for-loops\n",
    "pxs = np.arange(1,11,1)\n",
    "output = np.zeros([10,10])                            # Sets up an array of the appropriate size (10 x 10)\n",
    "\n",
    "for energy in energies:                               # Nested for-loops that run the calculation\n",
    "    for px in pxs:\n",
    "        s = ((energy)**2) - px**2\n",
    "        if s<0:\n",
    "            output[energy-1,px-1] = -1\n",
    "        else:\n",
    "            output[energy-1,px-1] = np.sqrt(s)\n",
    "print(output)                                         # Prints the resulting array\n",
    "np.savetxt('output_1',output)                         # Saves the array in a data file called 'output_1'"
   ]
  },
  {
   "cell_type": "markdown",
   "id": "f7343558",
   "metadata": {},
   "source": [
    "Part 4(d)"
   ]
  },
  {
   "cell_type": "code",
   "execution_count": 2,
   "id": "a944ac82",
   "metadata": {},
   "outputs": [
    {
     "name": "stdout",
     "output_type": "stream",
     "text": [
      "[[ 0.         -1.         -1.         -1.         -1.         -1.\n",
      "  -1.         -1.         -1.         -1.        ]\n",
      " [ 1.73205081  0.         -1.         -1.         -1.         -1.\n",
      "  -1.         -1.         -1.         -1.        ]\n",
      " [ 2.82842712  2.23606798  0.         -1.         -1.         -1.\n",
      "  -1.         -1.         -1.         -1.        ]\n",
      " [ 3.87298335  3.46410162  2.64575131  0.         -1.         -1.\n",
      "  -1.         -1.         -1.         -1.        ]\n",
      " [ 4.89897949  4.58257569  4.          3.          0.         -1.\n",
      "  -1.         -1.         -1.         -1.        ]\n",
      " [ 5.91607978  5.65685425  5.19615242  4.47213595  3.31662479  0.\n",
      "  -1.         -1.         -1.         -1.        ]\n",
      " [ 6.92820323  6.70820393  6.32455532  5.74456265  4.89897949  3.60555128\n",
      "   0.         -1.         -1.         -1.        ]\n",
      " [ 7.93725393  7.74596669  7.41619849  6.92820323  6.244998    5.29150262\n",
      "   3.87298335  0.         -1.         -1.        ]\n",
      " [ 8.94427191  8.77496439  8.48528137  8.06225775  7.48331477  6.70820393\n",
      "   5.65685425  4.12310563  0.         -1.        ]\n",
      " [ 9.94987437  9.79795897  9.53939201  9.16515139  8.66025404  8.\n",
      "   7.14142843  6.          4.35889894  0.        ]]\n"
     ]
    }
   ],
   "source": [
    "import numpy as np\n",
    "u = np.loadtxt('output_1')                     # Retrieves the data from the file 'output_1' and assigs the array a variable\n",
    "print(u)"
   ]
  },
  {
   "cell_type": "markdown",
   "id": "92f51262",
   "metadata": {},
   "source": [
    "Part 5(a)"
   ]
  },
  {
   "cell_type": "code",
   "execution_count": 24,
   "id": "c1af3756",
   "metadata": {},
   "outputs": [
    {
     "name": "stdout",
     "output_type": "stream",
     "text": [
      "1730.3620206224375\n",
      "61.79864359365848 10610.998069395144\n",
      "182.94824257577835 10608.664393610044\n",
      "10.723961545826638\n",
      "10.797179424738284\n",
      "10.91920922292436\n",
      "11.090050940384867\n",
      "11.309704577119803\n",
      "11.57817013312917\n",
      "11.895447608412969\n",
      "12.261537002971197\n",
      "12.676438316803855\n",
      "13.140151549910945\n",
      "13.652676702292466\n",
      "14.214013773948414\n",
      "14.824162764878794\n",
      "15.483123675083606\n",
      "16.19089650456285\n",
      "16.94748125331652\n",
      "17.752877921344624\n",
      "18.60708650864716\n",
      "19.510107015224122\n",
      "20.461939441075515\n",
      "21.462583786201343\n",
      "22.512040050601595\n",
      "23.610308234276282\n",
      "24.757388337225397\n",
      "25.953280359448943\n",
      "27.197984300946917\n",
      "28.491500161719326\n",
      "29.833827941766163\n",
      "31.22496764108743\n",
      "32.66491925968313\n",
      "34.15368279755326\n",
      "35.691258254697814\n",
      "37.277645631116805\n",
      "38.91284492681022\n",
      "40.596856141778076\n",
      "42.329679276020364\n",
      "44.111314329537066\n",
      "45.94176130232822\n",
      "47.82102019439379\n",
      "49.74909100573379\n",
      "51.72597373634822\n",
      "53.75166838623709\n",
      "55.826174955400376\n",
      "57.94949344383811\n",
      "60.12162385155026\n",
      "62.34256617853685\n",
      "64.61232042479786\n",
      "66.9308865903333\n",
      "69.29826467514319\n",
      "71.71445467922752\n"
     ]
    }
   ],
   "source": [
    "import numpy as np\n",
    "\n",
    "a_1 = 15.8                                 # Establishes variables\n",
    "a_2 = 18.3\n",
    "a_3 = 0.714\n",
    "a_4 = 23.2\n",
    "A = 58\n",
    "Z = 28\n",
    "if A%2 == 1:                               # Sorts out A and Z into even or odd values\n",
    "    a_5 = 0\n",
    "elif A%2 == 0 and Z%2 == 0:\n",
    "    a_5 = 12.0\n",
    "elif A%2 == 0 and Z%2 == 1:\n",
    "    a_5 = -12.0\n",
    "\n",
    "E_bind = (a_1)*A - (a_2)*A**(2/3) - (a_3)*((Z**2)/(A**(1/3))) - (a_4)*((A - (2*Z)**2)/A) + (a_5)/((A)**(1/2))\n",
    "                                           # Binding energy equation\n",
    "print(E_bind)\n",
    "\n",
    "#Part 5(b)\n",
    "\n",
    "temp = A                                   # Makes A equal to Z\n",
    "A = Z\n",
    "Z = temp\n",
    "E_perA = (E_bind)/A\n",
    "E_bind = (a_1)*A - (a_2)*A**(2/3) - (a_3)*((Z**2)/(A**(1/3))) - (a_4)*((A - (2*Z)**2)/A) + (a_5)/((A)**(1/2))\n",
    "print(E_perA,E_bind)\n",
    "\n",
    "temp_1 = A                                 # Makes A equal to 3Z\n",
    "A = Z\n",
    "Z = temp_1*3\n",
    "E_perA = (E_bind)/A\n",
    "E_bind = (a_1)*A - (a_2)*A**(2/3) - (a_3)*((Z**2)/(A**(1/3))) - (a_4)*((A - (2*Z)**2)/A) + (a_5)/((A)**(1/2))\n",
    "print(E_perA,E_bind)\n",
    "\n",
    "#Part 5(c)\n",
    "\n",
    "BE_max = np.arange(1,51,1)                 # Sets up an array that counts from 1 to 50 in ones\n",
    "for BE in BE_max:                          # Loops the program through the established range of values\n",
    "    E_bind = (a_1)*A - (a_2)*A**(2/3) - (a_3)*(((BE)**2)/(A**(1/3))) - (a_4)*((A - (2*(BE))**2)/A) + (a_5)/((A)**(1/2))\n",
    "    E_perA = (E_bind)/A\n",
    "    print(E_perA)"
   ]
  },
  {
   "cell_type": "markdown",
   "id": "a25c8c8f",
   "metadata": {},
   "source": [
    "Part 6(a)"
   ]
  },
  {
   "cell_type": "code",
   "execution_count": 41,
   "id": "c69e7641",
   "metadata": {
    "scrolled": false
   },
   "outputs": [
    {
     "name": "stdout",
     "output_type": "stream",
     "text": [
      "[1. 0.]\n",
      "[0.9961947  0.08715574]\n",
      "[0.98480775 0.17364818]\n",
      "[0.96592583 0.25881905]\n",
      "[0.93969262 0.34202014]\n",
      "[0.90630779 0.42261826]\n",
      "[0.8660254 0.5      ]\n",
      "[0.81915204 0.57357644]\n",
      "[0.76604444 0.64278761]\n",
      "[0.70710678 0.70710678]\n",
      "[0.64278761 0.76604444]\n",
      "[0.57357644 0.81915204]\n",
      "[0.5       0.8660254]\n",
      "[0.42261826 0.90630779]\n",
      "[0.34202014 0.93969262]\n",
      "[0.25881905 0.96592583]\n",
      "[0.17364818 0.98480775]\n",
      "[0.08715574 0.9961947 ]\n",
      "[6.123234e-17 1.000000e+00]\n",
      "[-0.08715574  0.9961947 ]\n",
      "[-0.17364818  0.98480775]\n",
      "[-0.25881905  0.96592583]\n",
      "[-0.34202014  0.93969262]\n",
      "[-0.42261826  0.90630779]\n",
      "[-0.5        0.8660254]\n",
      "[-0.57357644  0.81915204]\n",
      "[-0.64278761  0.76604444]\n",
      "[-0.70710678  0.70710678]\n",
      "[-0.76604444  0.64278761]\n",
      "[-0.81915204  0.57357644]\n",
      "[-0.8660254  0.5      ]\n",
      "[-0.90630779  0.42261826]\n",
      "[-0.93969262  0.34202014]\n",
      "[-0.96592583  0.25881905]\n",
      "[-0.98480775  0.17364818]\n",
      "[-0.9961947   0.08715574]\n",
      "[-1.0000000e+00  1.2246468e-16]\n",
      "[-0.9961947  -0.08715574]\n",
      "[-0.98480775 -0.17364818]\n",
      "[-0.96592583 -0.25881905]\n",
      "[-0.93969262 -0.34202014]\n",
      "[-0.90630779 -0.42261826]\n",
      "[-0.8660254 -0.5      ]\n",
      "[-0.81915204 -0.57357644]\n",
      "[-0.76604444 -0.64278761]\n",
      "[-0.70710678 -0.70710678]\n",
      "[-0.64278761 -0.76604444]\n",
      "[-0.57357644 -0.81915204]\n",
      "[-0.5       -0.8660254]\n",
      "[-0.42261826 -0.90630779]\n",
      "[-0.34202014 -0.93969262]\n",
      "[-0.25881905 -0.96592583]\n",
      "[-0.17364818 -0.98480775]\n",
      "[-0.08715574 -0.9961947 ]\n",
      "[-1.8369702e-16 -1.0000000e+00]\n",
      "[ 0.08715574 -0.9961947 ]\n",
      "[ 0.17364818 -0.98480775]\n",
      "[ 0.25881905 -0.96592583]\n",
      "[ 0.34202014 -0.93969262]\n",
      "[ 0.42261826 -0.90630779]\n",
      "[ 0.5       -0.8660254]\n",
      "[ 0.57357644 -0.81915204]\n",
      "[ 0.64278761 -0.76604444]\n",
      "[ 0.70710678 -0.70710678]\n",
      "[ 0.76604444 -0.64278761]\n",
      "[ 0.81915204 -0.57357644]\n",
      "[ 0.8660254 -0.5      ]\n",
      "[ 0.90630779 -0.42261826]\n",
      "[ 0.93969262 -0.34202014]\n",
      "[ 0.96592583 -0.25881905]\n",
      "[ 0.98480775 -0.17364818]\n",
      "[ 0.9961947  -0.08715574]\n",
      "[ 1.0000000e+00 -2.4492936e-16]\n"
     ]
    },
    {
     "data": {
      "text/plain": [
       "[<matplotlib.lines.Line2D at 0x23351772f50>,\n",
       " <matplotlib.lines.Line2D at 0x23351773250>]"
      ]
     },
     "execution_count": 41,
     "metadata": {},
     "output_type": "execute_result"
    },
    {
     "data": {
      "image/png": "[encoded data removed]",
      "text/plain": [
       "<Figure size 640x480 with 1 Axes>"
      ]
     },
     "metadata": {},
     "output_type": "display_data"
    }
   ],
   "source": [
    "import numpy as np\n",
    "import matplotlib.pyplot as plt\n",
    "\n",
    "q = np.loadtxt('SampleData1.txt')        # Retrieves the data from the file 'SampleData1.txt' and assigns the array a variable\n",
    "for num in range(len(q)):                # Determines the length of array 'q' and uses that value to determine how many loops\n",
    "    print(q[num])                    #     to do, resulting in a sequential printing of each row of array 'q' \n",
    "    \n",
    "# After printing the rows, the values seemed to follow a sine function, so I graphed it:    \n",
    "plt.plot(q)\n",
    "# The resulting plot looks like 2 out 3 phases in a 3-phase electrical system"
   ]
  },
  {
   "cell_type": "code",
   "execution_count": null,
   "id": "fb809c97",
   "metadata": {},
   "outputs": [],
   "source": []
  }
 ],
 "metadata": {
  "kernelspec": {
   "display_name": "Python 3 (ipykernel)",
   "language": "python",
   "name": "python3"
  },
  "language_info": {
   "codemirror_mode": {
    "name": "ipython",
    "version": 3
   },
   "file_extension": ".py",
   "mimetype": "text/x-python",
   "name": "python",
   "nbconvert_exporter": "python",
   "pygments_lexer": "ipython3",
   "version": "3.11.5"
  }
 },
 "nbformat": 4,
 "nbformat_minor": 5
}
